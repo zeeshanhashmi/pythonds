{
 "cells": [
  {
   "cell_type": "code",
   "execution_count": 124,
   "id": "f747c957",
   "metadata": {},
   "outputs": [],
   "source": [
    "# Step 1, you must install Selenuim\n",
    "#pip install selenium"
   ]
  },
  {
   "cell_type": "code",
   "execution_count": 184,
   "id": "be0a6854",
   "metadata": {},
   "outputs": [],
   "source": [
    "# once that is installed, install Chrome Driver (in accordance with your Chrome Browser's version)\n",
    "# and put that file (chromedriver.exe) in your C:\\Program Files (x86) for ease of access"
   ]
  },
  {
   "cell_type": "code",
   "execution_count": 186,
   "id": "d2a04860",
   "metadata": {},
   "outputs": [
    {
     "name": "stdout",
     "output_type": "stream",
     "text": [
      "Tell me some english movie name:Wrong Turn\n",
      "Wrong Turn [2003] [R] - 3.10.5\n",
      "<re.Match object; span=(24, 30), match='3.10.5'>\n",
      "The Campaign [2012] [R] - 7.5.7\n",
      "<re.Match object; span=(26, 31), match='7.5.7'>\n",
      "Leap Year [2009] [PG] - 3.3.4\n",
      "<re.Match object; span=(24, 29), match='3.3.4'>\n",
      "The Amazing Spider-Man [2012] [PG-13] - 3.6.4\n",
      "<re.Match object; span=(40, 45), match='3.6.4'>\n",
      "The Sorcerer's Apprentice [2010] [PG] - 2.5.2\n",
      "<re.Match object; span=(40, 45), match='2.5.2'>\n",
      "Ford v Ferrari [2019] [PG-13] - 2.5.5\n",
      "<re.Match object; span=(32, 37), match='2.5.5'>\n",
      "Lucy [2014] [R] - 4.7.4\n",
      "<re.Match object; span=(18, 23), match='4.7.4'>\n",
      "Armored [2009] [PG-13] - 1.6.5\n",
      "<re.Match object; span=(25, 30), match='1.6.5'>\n",
      "Black Sea [2015] [R] - 2.6.10\n",
      "<re.Match object; span=(23, 29), match='2.6.10'>\n",
      "Fun with Dick and Jane [2005] [PG-13] - 3.3.5\n",
      "<re.Match object; span=(40, 45), match='3.3.5'>\n",
      "The Hunger Games: Mockingjay - Part 2 [2015] [PG-13] - 2.6.1\n",
      "<re.Match object; span=(55, 60), match='2.6.1'>\n",
      "It's Complicated [2009] [R] - 7.2.4\n",
      "<re.Match object; span=(30, 35), match='7.2.4'>\n",
      "Infinity Pool [2023] [R] - 9.7.5\n",
      "<re.Match object; span=(27, 32), match='9.7.5'>\n",
      "The Odd Life Of Timothy Green [2012] [PG] - 2.3.1\n",
      "<re.Match object; span=(44, 49), match='2.3.1'>\n",
      "The Many Saints of Newark [2021] [R] - 7.8.10\n",
      "<re.Match object; span=(39, 45), match='7.8.10'>\n",
      "Captain Underpants: The First Epic Movie [2017] [PG] - 2.3.2\n",
      "<re.Match object; span=(55, 60), match='2.3.2'>\n",
      "Hotel Transylvania [2012] [PG] - 2.4.2\n",
      "<re.Match object; span=(33, 38), match='2.4.2'>\n",
      "The Jungle Book [2016] [PG] - 1.4.1\n",
      "<re.Match object; span=(30, 35), match='1.4.1'>\n",
      "Mia and the Migoo [2008] [PG] - 1.3.3\n",
      "<re.Match object; span=(32, 37), match='1.3.3'>\n",
      "The Lazarus Effect [2015] [PG-13] - 2.6.5\n",
      "<re.Match object; span=(36, 41), match='2.6.5'>\n",
      "Records written to file successfully.\n"
     ]
    }
   ],
   "source": [
    "# How to use, just run this line and give it a movie name, it will serach that on Kids in Mind and will fetch\n",
    "# the related info\n",
    "title = input(\"Tell me some english movie name:\")\n",
    "grabMoviesFromKIM(title)"
   ]
  },
  {
   "cell_type": "code",
   "execution_count": 188,
   "id": "ac246e44",
   "metadata": {},
   "outputs": [],
   "source": [
    "def evalChunks(txt):\n",
    "    infoList = {}\n",
    "    m = re.search(r\"\\[([0-9]+)\\]\", txt)\n",
    "    if not m:\n",
    "        year = 'N/a'\n",
    "    else:\n",
    "        year = m.group(1)\n",
    "    bm = re.search(r'\\d+.\\d+.\\d+', txt)\n",
    "    if not bm:\n",
    "        bm = 'N/a'\n",
    "    else:\n",
    "        bm = bm.group()\n",
    "\n",
    "    # movie name\n",
    "    movie = txt.replace('['+year+']','').replace('-','').replace(bm,'')\n",
    "    rating = re.search(r\"\\[(.*?)\\]\", movie)\n",
    "    if not rating:\n",
    "        rating = 'N/a'\n",
    "    else:\n",
    "        rating = rating.group(1)\n",
    "    movie = movie.replace('['+rating+']','')\n",
    "    if not bm == 'N/a':\n",
    "        bm = bm.split('.')\n",
    "        infoList['Vulgarity'] = bm[0]\n",
    "        infoList['Violence'] = bm[1]\n",
    "        infoList['Profanity'] = bm[2]        \n",
    "    else:\n",
    "        infoList['Vulgarity'] = ''\n",
    "        infoList['Violence'] = ''\n",
    "        infoList['Profanity'] = ''    \n",
    "    infoList['Movie'] = movie.strip(' ')\n",
    "    infoList['Year'] = year\n",
    "    infoList['Rating'] = rating\n",
    "\n",
    "    return infoList"
   ]
  },
  {
   "cell_type": "code",
   "execution_count": 181,
   "id": "5f3aa91f",
   "metadata": {},
   "outputs": [],
   "source": [
    "def writeToFile(df_new):\n",
    "    import pandas as pd\n",
    "    import os.path\n",
    "    path = './movies.csv'\n",
    "    check_file = os.path.isfile(path)\n",
    "    if not check_file:\n",
    "        df_new.to_csv('movies.csv',index=False)\n",
    "    else:\n",
    "        df_existing = pd.read_csv('movies.csv')\n",
    "        df_existing.reset_index(drop=True, inplace=True)\n",
    "        df_new.reset_index(drop=True, inplace=True)\n",
    "        concatDF = pd.concat([df_existing, df_new]).drop_duplicates()\n",
    "        concatDF.to_csv('movies.csv',index=False)\n",
    "    print(\"Records written to file successfully.\");"
   ]
  },
  {
   "cell_type": "code",
   "execution_count": 187,
   "id": "ad1d7892",
   "metadata": {},
   "outputs": [],
   "source": [
    "def grabMoviesFromKIM(title):\n",
    "    print(\"Please wait for the SUCCESS message or ERRORS otherwise.\")\n",
    "    print(\"If you see the success message, then load the new created file 'movies.csv'\")\n",
    "    from selenium.webdriver.chrome.service import Service\n",
    "    from selenium import webdriver \n",
    "    from selenium.webdriver.common.by import By\n",
    "    import re \n",
    "    import pandas as pd\n",
    "    path = \"C:\\Program Files (x86)\\chromedriver.exe\"\n",
    "    service = Service(executable_path=path)\n",
    "    driver = webdriver.Chrome(service=service)\n",
    "    driver.get('https://kids-in-mind.com/search-desktop.htm')\n",
    "    driver.find_element(By.ID, 's').send_keys(title)\n",
    "    driver.find_element(By.ID, 'searchsubmit').click()\n",
    "    driver.implicitly_wait(5)\n",
    "    sr = driver.find_elements(By.CLASS_NAME,'search-result')\n",
    "    movies = []\n",
    "    for span in sr:\n",
    "        movies.append(evalChunks(span.text))  \n",
    "    df = pd.DataFrame(movies)  \n",
    "    df.reset_index(drop=True)\n",
    "    writeToFile(df)"
   ]
  },
  {
   "cell_type": "code",
   "execution_count": null,
   "id": "a7dbaa2b",
   "metadata": {},
   "outputs": [],
   "source": []
  }
 ],
 "metadata": {
  "kernelspec": {
   "display_name": "Python 3 (ipykernel)",
   "language": "python",
   "name": "python3"
  },
  "language_info": {
   "codemirror_mode": {
    "name": "ipython",
    "version": 3
   },
   "file_extension": ".py",
   "mimetype": "text/x-python",
   "name": "python",
   "nbconvert_exporter": "python",
   "pygments_lexer": "ipython3",
   "version": "3.9.13"
  }
 },
 "nbformat": 4,
 "nbformat_minor": 5
}
